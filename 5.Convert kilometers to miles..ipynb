{
 "cells": [
  {
   "cell_type": "code",
   "execution_count": null,
   "id": "d8318a07-be5d-4e25-ab22-28bcc4850dff",
   "metadata": {},
   "outputs": [],
   "source": [
    "## 5. Write a Python program to convert kilometers to miles."
   ]
  },
  {
   "cell_type": "code",
   "execution_count": 5,
   "id": "bb281dc3-4499-4b27-bab5-0151aa37e311",
   "metadata": {},
   "outputs": [
    {
     "name": "stdin",
     "output_type": "stream",
     "text": [
      "Enter kilometer: 16.1\n"
     ]
    },
    {
     "name": "stdout",
     "output_type": "stream",
     "text": [
      " 16.1 kilometer is equal to 10.004076159\n"
     ]
    }
   ],
   "source": [
    "kilometer=float(input(\"Enter kilometer:\"))\n",
    "conversion_factor=0.62137119\n",
    "miles = kilometer * conversion_factor\n",
    "print(f\" {kilometer} kilometer is equal to\",miles)"
   ]
  },
  {
   "cell_type": "code",
   "execution_count": null,
   "id": "ed60b245-74fd-4c41-8200-ceb8cc41fbc0",
   "metadata": {},
   "outputs": [],
   "source": []
  },
  {
   "cell_type": "code",
   "execution_count": null,
   "id": "1a5be05e-04ad-4833-8d7a-0e7f17a784a6",
   "metadata": {},
   "outputs": [],
   "source": []
  }
 ],
 "metadata": {
  "kernelspec": {
   "display_name": "Python [conda env:base] *",
   "language": "python",
   "name": "conda-base-py"
  },
  "language_info": {
   "codemirror_mode": {
    "name": "ipython",
    "version": 3
   },
   "file_extension": ".py",
   "mimetype": "text/x-python",
   "name": "python",
   "nbconvert_exporter": "python",
   "pygments_lexer": "ipython3",
   "version": "3.12.7"
  }
 },
 "nbformat": 4,
 "nbformat_minor": 5
}
